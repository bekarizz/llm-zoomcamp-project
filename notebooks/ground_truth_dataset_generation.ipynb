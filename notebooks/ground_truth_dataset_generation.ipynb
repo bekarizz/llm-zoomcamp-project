{
 "cells": [
  {
   "cell_type": "code",
   "execution_count": 1,
   "id": "0dade7a3",
   "metadata": {},
   "outputs": [],
   "source": [
    "import sys\n",
    "\n",
    "sys.path.append('/workspaces/llm-zoomcamp-project/')\n",
    "\n",
    "from cards import make_table_cards, make_column_cards, make_example_cards"
   ]
  },
  {
   "cell_type": "code",
   "execution_count": 2,
   "id": "32964435",
   "metadata": {},
   "outputs": [],
   "source": [
    "example_cards = make_example_cards()"
   ]
  },
  {
   "cell_type": "code",
   "execution_count": 3,
   "id": "b5ef8759",
   "metadata": {},
   "outputs": [],
   "source": [
    "prompt_template = \"\"\"\n",
    "You emulate a student who's taking our course.\n",
    "Formulate 5 questions this student might ask based on a FAQ record. The record\n",
    "should contain the answer to the questions, and the questions should be complete and not too short.\n",
    "If possible, use as fewer words as possible from the record. \n",
    "\n",
    "The record:\n",
    "\n",
    "section: {section}\n",
    "question: {question}\n",
    "answer: {text}\n",
    "\n",
    "Provide the output in parsable JSON without using code blocks:\n",
    "\n",
    "[\"question1\", \"question2\", ..., \"question5\"]\n",
    "\"\"\".strip()"
   ]
  },
  {
   "cell_type": "code",
   "execution_count": 4,
   "id": "fc8612c6",
   "metadata": {},
   "outputs": [],
   "source": [
    "import os\n",
    "from dotenv import load_dotenv\n",
    "\n",
    "load_dotenv()\n",
    "api_key = os.getenv(\"OPENAI_API_KEY\")"
   ]
  },
  {
   "cell_type": "code",
   "execution_count": 5,
   "id": "a33f35e9",
   "metadata": {},
   "outputs": [],
   "source": [
    "from openai import OpenAI\n",
    "client = OpenAI(api_key=api_key)"
   ]
  },
  {
   "cell_type": "code",
   "execution_count": null,
   "id": "fc6b581a",
   "metadata": {},
   "outputs": [],
   "source": [
    "def generate_questions(doc):\n",
    "    prompt = prompt_template.format(**doc)\n",
    "\n",
    "    response = client.chat.completions.create(\n",
    "        model='gpt-4o',\n",
    "        messages=[{\"role\": \"user\", \"content\": prompt}]\n",
    "    )\n",
    "\n",
    "    json_response = response.choices[0].message.content\n",
    "    return json_response"
   ]
  },
  {
   "cell_type": "code",
   "execution_count": 9,
   "id": "135198f6",
   "metadata": {},
   "outputs": [
    {
     "name": "stdout",
     "output_type": "stream",
     "text": [
      "Q: average bed height for Jig-1 in last 10 hours\n",
      "Q: tailings chrome by machine in last 24 hours\n",
      "Q: hourly make-up water flow for Jig-2 yesterday\n",
      "Q: average pulsation frequency for all machines in the last 6 hours\n",
      "Q: average water flow for Jig-2 in the last 3 days\n",
      "Q: average clayness index for each machine yesterday\n",
      "Q: correlation between clayness index and tailings chrome for Jig-1 in the last 12 hours\n",
      "Q: maximum bed height for each machine today\n",
      "Q: hourly average of water flow and clayness for Jig-1 over the last 8 hours\n",
      "Q: difference between maximum and minimum bed height for Jig-2 in the last day\n",
      "Q: hourly average tailings chrome for each machine today\n",
      "Q: number of telemetry records collected per sensor in the last 24 hours\n",
      "Q: average chrome content in tailings per area during the last week\n",
      "Q: count of machines in the Flotation area\n",
      "Q: which machine has the sensor with the highest average clayness index over the last week\n",
      "Q: average water flow when tailings chrome was above 0.5 percent on Jig-4\n",
      "Q: list all sensors that haven't reported a reading in the last hour\n",
      "Q: average pulsation frequency for Jig-1 compared to Jig-2 over the last week\n",
      "Q: list plant areas where the average tailings Cr2O3 percentage was above 0.3 this month\n"
     ]
    }
   ],
   "source": [
    "for doc in example_cards: \n",
    "    full_text = doc.get('text', '') # Safely get the 'text' value\n",
    "\n",
    "    if full_text:\n",
    "        # 1. Find the index where the SQL part begins (after the newline)\n",
    "        try:\n",
    "            # Split the string by the newline character ('\\n')\n",
    "            question_part = full_text.split('\\n')[0]\n",
    "\n",
    "            # 2. Clean up any trailing/leading whitespace (optional but good practice)\n",
    "            question = question_part.strip()\n",
    "            \n",
    "            print(question)\n",
    "        except IndexError:\n",
    "            # Handle cases where the string might not contain a newline\n",
    "            print(f\"Error processing: {full_text.strip()}\")"
   ]
  },
  {
   "cell_type": "code",
   "execution_count": 3,
   "id": "b08dee0b",
   "metadata": {},
   "outputs": [
    {
     "data": {
      "text/plain": [
       "[{'type': 'example',\n",
       "  'text': \"Q: average bed height for Jig-1 in last 10 hours\\nSQL: SELECT AVG(t.value) AS avg_bed_height_mm FROM telemetry t JOIN sensors s ON t.sensor_id=s.sensor_id JOIN machines m ON s.machine_id=m.machine_id WHERE s.name='bed_height_mm' AND m.name='Jig-1' AND t.ts >= CURRENT_TIMESTAMP - INTERVAL '10 hours';\"},\n",
       " {'type': 'example',\n",
       "  'text': \"Q: tailings chrome by machine in last 24 hours\\nSQL: SELECT m.name, AVG(l.tailings_cr2o3_pct) AS avg_cr FROM lab_samples l JOIN machines m ON l.machine_id=m.machine_id WHERE l.ts >= CURRENT_TIMESTAMP - INTERVAL '24 hours' GROUP BY m.name ORDER BY m.name;\"},\n",
       " {'type': 'example',\n",
       "  'text': \"Q: hourly make-up water flow for Jig-2 yesterday\\nSQL: SELECT date_trunc('hour', t.ts) AS h, AVG(t.value) AS water_m3h FROM telemetry t JOIN sensors s ON t.sensor_id=s.sensor_id JOIN machines m ON s.machine_id=m.machine_id WHERE s.name='water_flow_m3h' AND m.name='Jig-2' AND t.ts::date = (CURRENT_DATE - INTERVAL '1 day')::date GROUP BY 1 ORDER BY 1;\"},\n",
       " {'type': 'example',\n",
       "  'text': \"Q: average pulsation frequency for all machines in the last 6 hours\\nSQL: SELECT m.name, AVG(t.value) AS avg_pulsation_hz FROM telemetry t JOIN sensors s ON t.sensor_id = s.sensor_id JOIN machines m ON s.machine_id = m.machine_id WHERE s.name = 'pulsation_freq_hz' AND t.ts >= CURRENT_TIMESTAMP - INTERVAL '6 hours' GROUP BY m.name ORDER BY m.name;\"},\n",
       " {'type': 'example',\n",
       "  'text': \"Q: average water flow for Jig-2 in the last 3 days\\nSQL: SELECT AVG(t.value) AS avg_water_m3h FROM telemetry t JOIN sensors s ON t.sensor_id = s.sensor_id JOIN machines m ON s.machine_id = m.machine_id WHERE s.name = 'water_flow_m3h' AND m.name = 'Jig-2' AND t.ts >= CURRENT_TIMESTAMP - INTERVAL '3 days';\"},\n",
       " {'type': 'example',\n",
       "  'text': \"Q: average clayness index for each machine yesterday\\nSQL: SELECT m.name, AVG(t.value) AS avg_clayness FROM telemetry t JOIN sensors s ON t.sensor_id = s.sensor_id JOIN machines m ON s.machine_id = m.machine_id WHERE s.name = 'clayness_index' AND t.ts::date = (CURRENT_DATE - INTERVAL '1 day')::date GROUP BY m.name ORDER BY m.name;\"},\n",
       " {'type': 'example',\n",
       "  'text': \"Q: correlation between clayness index and tailings chrome for Jig-1 in the last 12 hours\\nSQL: SELECT corr(t.value, l.tailings_cr2o3_pct) AS corr_value FROM telemetry t JOIN sensors s ON t.sensor_id = s.sensor_id JOIN machines m ON s.machine_id = m.machine_id JOIN lab_samples l ON l.machine_id = m.machine_id WHERE s.name = 'clayness_index' AND m.name = 'Jig-1' AND t.ts >= CURRENT_TIMESTAMP - INTERVAL '12 hours' AND l.ts >= CURRENT_TIMESTAMP - INTERVAL '12 hours';\"},\n",
       " {'type': 'example',\n",
       "  'text': \"Q: maximum bed height for each machine today\\nSQL: SELECT m.name, MAX(t.value) AS max_bed_height_mm FROM telemetry t JOIN sensors s ON t.sensor_id = s.sensor_id JOIN machines m ON s.machine_id = m.machine_id WHERE s.name = 'bed_height_mm' AND t.ts::date = CURRENT_DATE GROUP BY m.name ORDER BY m.name;\"},\n",
       " {'type': 'example',\n",
       "  'text': \"Q: hourly average of water flow and clayness for Jig-1 over the last 8 hours\\nSQL: SELECT date_trunc('hour', t.ts) AS hour, AVG(CASE WHEN s.name = 'water_flow_m3h' THEN t.value END) AS avg_water_flow, AVG(CASE WHEN s.name = 'clayness_index' THEN t.value END) AS avg_clayness FROM telemetry t JOIN sensors s ON t.sensor_id = s.sensor_id JOIN machines m ON s.machine_id = m.machine_id WHERE m.name = 'Jig-1' AND s.name IN ('water_flow_m3h','clayness_index') AND t.ts >= CURRENT_TIMESTAMP - INTERVAL '8 hours' GROUP BY hour ORDER BY hour;\"},\n",
       " {'type': 'example',\n",
       "  'text': \"Q: difference between maximum and minimum bed height for Jig-2 in the last day\\nSQL: SELECT MAX(t.value) - MIN(t.value) AS bed_height_range_mm FROM telemetry t JOIN sensors s ON t.sensor_id = s.sensor_id JOIN machines m ON s.machine_id = m.machine_id WHERE s.name = 'bed_height_mm' AND m.name = 'Jig-2' AND t.ts >= CURRENT_TIMESTAMP - INTERVAL '24 hours';\"},\n",
       " {'type': 'example',\n",
       "  'text': \"Q: hourly average tailings chrome for each machine today\\nSQL: SELECT m.name, date_trunc('hour', l.ts) AS hour, AVG(l.tailings_cr2o3_pct) AS avg_cr FROM lab_samples l JOIN machines m ON l.machine_id = m.machine_id WHERE l.ts::date = CURRENT_DATE GROUP BY m.name, hour ORDER BY m.name, hour;\"},\n",
       " {'type': 'example',\n",
       "  'text': \"Q: number of telemetry records collected per sensor in the last 24 hours\\nSQL: SELECT s.name AS sensor_name, COUNT(*) AS record_count FROM telemetry t JOIN sensors s ON t.sensor_id = s.sensor_id WHERE t.ts >= CURRENT_TIMESTAMP - INTERVAL '24 hours' GROUP BY s.name ORDER BY record_count DESC;\"},\n",
       " {'type': 'example',\n",
       "  'text': \"Q: average chrome content in tailings per area during the last week\\nSQL: SELECT m.area, AVG(l.tailings_cr2o3_pct) AS avg_cr FROM lab_samples l JOIN machines m ON l.machine_id = m.machine_id WHERE l.ts >= CURRENT_TIMESTAMP - INTERVAL '7 days' GROUP BY m.area ORDER BY m.area;\"},\n",
       " {'type': 'example',\n",
       "  'text': \"Q: count of machines in the Flotation area\\nSQL: SELECT COUNT(machine_id) FROM machines WHERE area = 'Flotation';\"},\n",
       " {'type': 'example',\n",
       "  'text': \"Q: which machine has the sensor with the highest average clayness index over the last week\\nSQL: WITH weekly_avg AS (   SELECT s.machine_id, AVG(t.value) AS avg_clayness   FROM telemetry t JOIN sensors s ON t.sensor_id = s.sensor_id   WHERE s.name = 'clayness_index'   AND t.ts >= CURRENT_TIMESTAMP - INTERVAL '7 days'   GROUP BY 1 ) SELECT m.name FROM machines m JOIN weekly_avg wa ON m.machine_id = wa.machine_id ORDER BY wa.avg_clayness DESC LIMIT 1;\"},\n",
       " {'type': 'example',\n",
       "  'text': \"Q: average water flow when tailings chrome was above 0.5 percent on Jig-4\\nSQL: SELECT AVG(t.value) AS avg_water_flow FROM telemetry t JOIN sensors s ON t.sensor_id=s.sensor_id JOIN machines m ON s.machine_id=m.machine_id WHERE s.name='water_flow_m3h' AND m.name='Jig-4' AND EXISTS (   SELECT 1 FROM lab_samples l   WHERE l.machine_id = m.machine_id   AND l.tailings_cr2o3_pct > 0.5   AND t.ts::date = l.ts::date );\"},\n",
       " {'type': 'example',\n",
       "  'text': \"Q: list all sensors that haven't reported a reading in the last hour\\nSQL: SELECT s.name, s.description FROM sensors s LEFT JOIN telemetry t ON s.sensor_id = t.sensor_id AND t.ts >= CURRENT_TIMESTAMP - INTERVAL '1 hour' WHERE t.ts IS NULL;\"},\n",
       " {'type': 'example',\n",
       "  'text': \"Q: average pulsation frequency for Jig-1 compared to Jig-2 over the last week\\nSQL: SELECT   AVG(CASE WHEN m.name = 'Jig-1' THEN t.value END) AS avg_pulsation_jig1,   AVG(CASE WHEN m.name = 'Jig-2' THEN t.value END) AS avg_pulsation_jig2 FROM telemetry t JOIN sensors s ON t.sensor_id=s.sensor_id JOIN machines m ON s.machine_id=m.machine_id WHERE s.name='pulsation_freq_hz' AND m.name IN ('Jig-1', 'Jig-2') AND t.ts >= CURRENT_TIMESTAMP - INTERVAL '7 days';\"},\n",
       " {'type': 'example',\n",
       "  'text': \"Q: list plant areas where the average tailings Cr2O3 percentage was above 0.3 this month\\nSQL: SELECT m.area, AVG(l.tailings_cr2o3_pct) AS avg_cr_pct FROM lab_samples l JOIN machines m ON l.machine_id=m.machine_id WHERE date_trunc('month', l.ts) = date_trunc('month', CURRENT_TIMESTAMP) GROUP BY m.area HAVING AVG(l.tailings_cr2o3_pct) > 0.3 ORDER BY 2 DESC;\"}]"
      ]
     },
     "execution_count": 3,
     "metadata": {},
     "output_type": "execute_result"
    }
   ],
   "source": [
    "example_cards"
   ]
  },
  {
   "cell_type": "code",
   "execution_count": null,
   "id": "8ed9205f",
   "metadata": {},
   "outputs": [],
   "source": []
  }
 ],
 "metadata": {
  "kernelspec": {
   "display_name": "Python 3",
   "language": "python",
   "name": "python3"
  },
  "language_info": {
   "codemirror_mode": {
    "name": "ipython",
    "version": 3
   },
   "file_extension": ".py",
   "mimetype": "text/x-python",
   "name": "python",
   "nbconvert_exporter": "python",
   "pygments_lexer": "ipython3",
   "version": "3.12.1"
  }
 },
 "nbformat": 4,
 "nbformat_minor": 5
}
